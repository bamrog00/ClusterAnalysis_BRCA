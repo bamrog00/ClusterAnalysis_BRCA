{
 "cells": [
  {
   "cell_type": "code",
   "execution_count": 1,
   "id": "edda87dc",
   "metadata": {},
   "outputs": [],
   "source": [
    "import pandas as pd\n",
    "import os\n",
    "import glob\n",
    "import numpy as np"
   ]
  },
  {
   "cell_type": "markdown",
   "id": "2e2ce1b1",
   "metadata": {},
   "source": [
    "# BRCA"
   ]
  },
  {
   "cell_type": "code",
   "execution_count": 78,
   "id": "362831b1",
   "metadata": {},
   "outputs": [],
   "source": [
    "HRD_scores_pan_cancer = pd.read_csv('../../HRD_score/data/HRD_scores_pan_cancer_annotated_typecorrect.csv', sep=',', header = 0)\n",
    "firebrowse_data = pd.read_csv('../data/gene_expression/firebrowse_BRCA/BRCA.mRNAseq_raw_counts.txt', sep='\\t', header = 0)\n",
    "clincial_data = pd.read_csv('../data/metadata/brca_tcga_pan_can_atlas_2018_clinical_data.tsv', sep = '\\t', header = 0)"
   ]
  },
  {
   "cell_type": "code",
   "execution_count": 8,
   "id": "519209b4",
   "metadata": {},
   "outputs": [],
   "source": [
    "def curation(rna_counts):\n",
    "    gene_list = list(rna_counts['HYBRIDIZATION R'])\n",
    "    gene_names = [x.split('|')[0] for x in gene_list]\n",
    "    rna_counts = rna_counts.drop(rna_counts.columns[0], axis = 1)\n",
    "    rna_counts.index = gene_names\n",
    "    print(rna_counts.shape)\n",
    "    return rna_counts\n",
    "\n",
    "def prepareClinical(clinical):\n",
    "    cut_clinical = clinical[['Patient ID', 'Sample ID', 'Subtype']]\n",
    "    cut_clinical_named = cut_clinical.set_index('Sample ID')\n",
    "    cut_clinical_named = cut_clinical_named.T\n",
    "    \n",
    "    return cut_clinical_named\n",
    "    \n",
    "def prepareScorefile(scorefile, cancertype):\n",
    "    scorefile_type = scorefile[scorefile['Project ID'] == cancertype]\n",
    "    scorefile_type_primary = scorefile_type[scorefile_type['Type'] == 'Primary']\n",
    "    double_ids = list(scorefile_type_primary['Sample ID'])\n",
    "    \n",
    "    sample_id = list()\n",
    "    sample_id1 =list()\n",
    "    sample_id2 = list()\n",
    "    \n",
    "    for sampleid in double_ids:\n",
    "        ids = sampleid.split(', ')\n",
    "        id_1 = ids[0]\n",
    "        id_2 = ids[1]\n",
    "        sample_id1.append(id_1)\n",
    "        sample_id2.append(id_2)\n",
    "        sample_id.append(id_1)\n",
    "        sample_id.append(id_2)\n",
    "    sample_id_scores = list(np.unique(np.array(sample_id)))\n",
    "    sample_id_scores = [s[:-1] for s in sample_id_scores]\n",
    "    sample_id1 = [s[:-1] for s in sample_id1]\n",
    "    sample_id2 = [s[:-1] for s in sample_id2]\n",
    "    \n",
    "    scorefile_type_primary['sample_id_1'] = ''\n",
    "    scorefile_type_primary['sample_id_1'] = sample_id1\n",
    "    scorefile_type_primary['sample_id_2'] = ''\n",
    "    scorefile_type_primary['sample_id_2'] = sample_id2\n",
    "    print(scorefile_type_primary.shape)\n",
    "    return scorefile_type_primary, sample_id_scores\n",
    "\n",
    "def filterForMatches(clinical, rna_counts, scorefile, sample_id_scores):\n",
    "    \n",
    "    col_order_count = rna_counts.columns.tolist()\n",
    "    col_order_clinical = clinical.columns.tolist()\n",
    "    set_id_HRD = set(sample_id_scores)\n",
    "    set_id_clincial = set(col_order_clinical)\n",
    "    \n",
    "    matching = list(set_id_HRD.intersection(set_id_clincial))\n",
    "    print(len(matching))\n",
    "    set_match = set(matching)\n",
    "    set_id_count = set(col_order_count)\n",
    "    matching = list(set_match.intersection(set_id_count))\n",
    "\n",
    "\n",
    "    scorefile_filtered = scorefile[scorefile['sample_id_1'].isin(matching) | scorefile['sample_id_2'].isin(matching)]\n",
    "    scorefile_filtered_second = scorefile_filtered.drop_duplicates(subset='sample_id_1', keep='first')\n",
    "    scorefile_filtered_third = scorefile_filtered_second.drop_duplicates(subset='sample_id_2', keep='first')\n",
    "\n",
    "    clinical_filtered = clinical.loc[:, matching]\n",
    "    rna_counts_filtered = rna_counts.loc[:,matching]\n",
    "    \n",
    "    clinical_reordered = clinical_filtered.reindex(columns=rna_counts_filtered.columns)\n",
    "    print(clinical_reordered.shape)\n",
    "    print(rna_counts_filtered.shape)\n",
    "    return clinical_reordered, rna_counts_filtered, scorefile_filtered_third\n",
    "\n",
    "def addScoreToClinical(clinical, scorefile):\n",
    "    hrds = dict()\n",
    "    loh = dict()\n",
    "    lst = dict()\n",
    "    tai = dict()\n",
    "\n",
    "    for id_ in clinical.columns:\n",
    "        if id_ in list(scorefile['sample_id_1']):\n",
    "            hrds[id_] = scorefile[scorefile['sample_id_1'] == id_]['HRD_sum'].values[0]\n",
    "            loh[id_] = scorefile[scorefile['sample_id_1'] == id_]['LOH'].values[0]\n",
    "            lst[id_] = scorefile[scorefile['sample_id_1'] == id_]['LST'].values[0]\n",
    "            tai[id_] = scorefile[scorefile['sample_id_1'] == id_]['TAI'].values[0]\n",
    "        else:\n",
    "            hrds[id_] = scorefile[scorefile['sample_id_2'] == id_]['HRD_sum'].values[0]\n",
    "            loh[id_] = scorefile[scorefile['sample_id_2'] == id_]['LOH'].values[0]\n",
    "            lst[id_] = scorefile[scorefile['sample_id_2'] == id_]['LST'].values[0]\n",
    "            tai[id_] = scorefile[scorefile['sample_id_2'] == id_]['TAI'].values[0]\n",
    "        \n",
    "\n",
    "    clinical.loc['HRD_sum'] = hrds\n",
    "    clinical.loc['LOH'] = loh\n",
    "    clinical.loc['LST'] = lst\n",
    "    clinical.loc['TAI'] = tai\n",
    "    \n",
    "    clinical_t = clinical.T\n",
    "    clinical_t.fillna('undefined', inplace=True)\n",
    "    print(clinical_t.shape)\n",
    "    return clinical_t\n",
    "\n",
    "def statistics(clinical, rna_count, sample_id_scores):\n",
    "    col_order = rna_count.columns.tolist()\n",
    "    col_order_clinical = clinical.columns.tolist()\n",
    "\n",
    "    col_order.pop(0)\n",
    "\n",
    "    print('raw and clinical overlap')\n",
    "    set1 = set(col_order)\n",
    "    set2 = set(col_order_clinical)\n",
    "    \n",
    "    matching = list(set1.intersection(set2))\n",
    "    print(len(col_order))\n",
    "    print(len(col_order_clinical))\n",
    "    print(len(matching))\n",
    "\n",
    "    print('#### hrd set and clinical overlap')\n",
    "\n",
    "    set1 = set(sample_id_scores)\n",
    "    set2 = set(col_order_clinical)\n",
    "    \n",
    "    matching = list(set1.intersection(set2))\n",
    "    print(len(sample_id_scores))\n",
    "    print(len(col_order_clinical))\n",
    "    print(len(matching))\n",
    "\n",
    "    print('#### overlap of hrd and clinical overlaped with raw count')\n",
    "    set1 = set(matching)\n",
    "    set2 = set(col_order)\n",
    "    \n",
    "    matching = list(set1.intersection(set2))\n",
    "    print(len(matching))\n",
    "\n",
    "    print('### hrd set and raw count overlap')\n",
    "\n",
    "    set1 = set(col_order)\n",
    "    set2 = set(sample_id_scores)\n",
    "    \n",
    "    matching = list(set1.intersection(set2))\n",
    "    print(len(col_order))\n",
    "    print(len(sample_id_scores))\n",
    "    print(len(matching))\n",
    "\n",
    "def saveData(clinical, rna_count, scorefile, path, cancertype):\n",
    "    rna_count.to_csv(path + 'raw_count_'+cancertype+'.csv', sep=',', index = True, header = True)\n",
    "    clinical.to_csv(path + 'clinical_'+cancertype+'.csv', sep=',', header = True, index = True)\n",
    "    scorefile.to_csv(path + 'HRD_scores_'+cancertype+'.csv', sep=',', header = True, index = None)"
   ]
  },
  {
   "cell_type": "code",
   "execution_count": 80,
   "id": "fa6ffbd6",
   "metadata": {},
   "outputs": [
    {
     "name": "stdout",
     "output_type": "stream",
     "text": [
      "(20532, 878)\n",
      "(1077, 21)\n",
      "1057\n",
      "(2, 747)\n",
      "(20532, 747)\n"
     ]
    },
    {
     "name": "stderr",
     "output_type": "stream",
     "text": [
      "/tmp/ipykernel_79282/1908801342.py:38: SettingWithCopyWarning: \n",
      "A value is trying to be set on a copy of a slice from a DataFrame.\n",
      "Try using .loc[row_indexer,col_indexer] = value instead\n",
      "\n",
      "See the caveats in the documentation: https://pandas.pydata.org/pandas-docs/stable/user_guide/indexing.html#returning-a-view-versus-a-copy\n",
      "  scorefile_type_primary['sample_id_1'] = ''\n",
      "/tmp/ipykernel_79282/1908801342.py:39: SettingWithCopyWarning: \n",
      "A value is trying to be set on a copy of a slice from a DataFrame.\n",
      "Try using .loc[row_indexer,col_indexer] = value instead\n",
      "\n",
      "See the caveats in the documentation: https://pandas.pydata.org/pandas-docs/stable/user_guide/indexing.html#returning-a-view-versus-a-copy\n",
      "  scorefile_type_primary['sample_id_1'] = sample_id1\n",
      "/tmp/ipykernel_79282/1908801342.py:40: SettingWithCopyWarning: \n",
      "A value is trying to be set on a copy of a slice from a DataFrame.\n",
      "Try using .loc[row_indexer,col_indexer] = value instead\n",
      "\n",
      "See the caveats in the documentation: https://pandas.pydata.org/pandas-docs/stable/user_guide/indexing.html#returning-a-view-versus-a-copy\n",
      "  scorefile_type_primary['sample_id_2'] = ''\n",
      "/tmp/ipykernel_79282/1908801342.py:41: SettingWithCopyWarning: \n",
      "A value is trying to be set on a copy of a slice from a DataFrame.\n",
      "Try using .loc[row_indexer,col_indexer] = value instead\n",
      "\n",
      "See the caveats in the documentation: https://pandas.pydata.org/pandas-docs/stable/user_guide/indexing.html#returning-a-view-versus-a-copy\n",
      "  scorefile_type_primary['sample_id_2'] = sample_id2\n"
     ]
    },
    {
     "name": "stdout",
     "output_type": "stream",
     "text": [
      "(747, 6)\n"
     ]
    }
   ],
   "source": [
    "rna_counts_annotated = curation(firebrowse_data)\n",
    "clinical_named = prepareClinical(clincial_data)\n",
    "score_file_prep, sample_id_scores = prepareScorefile(HRD_scores_pan_cancer, 'TCGA-BRCA')\n",
    "\n",
    "clinical_reordered, rna_counts_filtered, scorefile_filtered = filterForMatches(clinical_named, rna_counts_annotated, score_file_prep, sample_id_scores)\n",
    "clinical_t = addScoreToClinical(clinical_reordered, scorefile_filtered)\n"
   ]
  },
  {
   "cell_type": "code",
   "execution_count": 81,
   "id": "1d202585",
   "metadata": {
    "scrolled": true
   },
   "outputs": [
    {
     "name": "stdout",
     "output_type": "stream",
     "text": [
      "(20532, 878)\n"
     ]
    }
   ],
   "source": [
    "# Only keep gene symbol and make them rownames\n",
    "gene_list = list(firebrowse_data['HYBRIDIZATION R'])\n",
    "gene_names = [ x.split('|')[0] for x in gene_list]\n",
    "firebrowse_data = firebrowse_data.drop(firebrowse_data.columns[0], axis=1)\n",
    "firebrowse_data.index = gene_names\n",
    "print(firebrowse_data.shape)"
   ]
  },
  {
   "cell_type": "code",
   "execution_count": 82,
   "id": "89008e98",
   "metadata": {
    "scrolled": false
   },
   "outputs": [],
   "source": [
    "# Get the nessessary columns of the clinical\n",
    "cut_clinical = clincial_data[['Patient ID', 'Sample ID', 'Subtype']]"
   ]
  },
  {
   "cell_type": "code",
   "execution_count": 83,
   "id": "00d1ce2c",
   "metadata": {
    "scrolled": false
   },
   "outputs": [],
   "source": [
    "cut_clinical_named = cut_clinical.set_index('Sample ID')\n",
    "cut_clinical_named = cut_clinical_named.T"
   ]
  },
  {
   "cell_type": "code",
   "execution_count": 84,
   "id": "aa7899ad",
   "metadata": {},
   "outputs": [
    {
     "name": "stdout",
     "output_type": "stream",
     "text": [
      "(1077, 21)\n"
     ]
    },
    {
     "name": "stderr",
     "output_type": "stream",
     "text": [
      "/tmp/ipykernel_79282/3629650063.py:24: SettingWithCopyWarning: \n",
      "A value is trying to be set on a copy of a slice from a DataFrame.\n",
      "Try using .loc[row_indexer,col_indexer] = value instead\n",
      "\n",
      "See the caveats in the documentation: https://pandas.pydata.org/pandas-docs/stable/user_guide/indexing.html#returning-a-view-versus-a-copy\n",
      "  HRD_scores_brca_primary['sample_id_1'] = ''\n",
      "/tmp/ipykernel_79282/3629650063.py:25: SettingWithCopyWarning: \n",
      "A value is trying to be set on a copy of a slice from a DataFrame.\n",
      "Try using .loc[row_indexer,col_indexer] = value instead\n",
      "\n",
      "See the caveats in the documentation: https://pandas.pydata.org/pandas-docs/stable/user_guide/indexing.html#returning-a-view-versus-a-copy\n",
      "  HRD_scores_brca_primary['sample_id_1'] = sample_id1\n",
      "/tmp/ipykernel_79282/3629650063.py:26: SettingWithCopyWarning: \n",
      "A value is trying to be set on a copy of a slice from a DataFrame.\n",
      "Try using .loc[row_indexer,col_indexer] = value instead\n",
      "\n",
      "See the caveats in the documentation: https://pandas.pydata.org/pandas-docs/stable/user_guide/indexing.html#returning-a-view-versus-a-copy\n",
      "  HRD_scores_brca_primary['sample_id_2'] = ''\n",
      "/tmp/ipykernel_79282/3629650063.py:27: SettingWithCopyWarning: \n",
      "A value is trying to be set on a copy of a slice from a DataFrame.\n",
      "Try using .loc[row_indexer,col_indexer] = value instead\n",
      "\n",
      "See the caveats in the documentation: https://pandas.pydata.org/pandas-docs/stable/user_guide/indexing.html#returning-a-view-versus-a-copy\n",
      "  HRD_scores_brca_primary['sample_id_2'] = sample_id2\n"
     ]
    }
   ],
   "source": [
    "# Prepare the score file\n",
    "# Split the Sample IDs and save both in new columns\n",
    "\n",
    "HRD_scores_brca = HRD_scores_pan_cancer[HRD_scores_pan_cancer['Project ID'] == 'TCGA-BRCA']\n",
    "HRD_scores_brca_primary = HRD_scores_brca[HRD_scores_brca['Type'] == 'Primary']\n",
    "hrd_patient_id = list(HRD_scores_brca_primary['Sample ID'])\n",
    "\n",
    "sample_id = list()\n",
    "sample_id1 = list()\n",
    "sample_id2 = list()\n",
    "for sampleid in hrd_patient_id:\n",
    "    ids = sampleid.split(', ')\n",
    "    id_1 = ids[0]\n",
    "    id_2 = ids[1]\n",
    "    sample_id1.append(id_1)\n",
    "    sample_id2.append(id_2)\n",
    "    sample_id.append(id_1)\n",
    "    sample_id.append(id_2)\n",
    "sample_id_hrd = list(np.unique(np.array(sample_id)))\n",
    "sample_id_hrd = [s[:-1] for s in sample_id_hrd]\n",
    "sample_id1 = [s[:-1] for s in sample_id1]\n",
    "sample_id2 = [s[:-1] for s in sample_id2]\n",
    "\n",
    "HRD_scores_brca_primary['sample_id_1'] = ''\n",
    "HRD_scores_brca_primary['sample_id_1'] = sample_id1\n",
    "HRD_scores_brca_primary['sample_id_2'] = ''\n",
    "HRD_scores_brca_primary['sample_id_2'] = sample_id2\n",
    "print(HRD_scores_brca_primary.shape)"
   ]
  },
  {
   "cell_type": "code",
   "execution_count": 85,
   "id": "9fcbd2c5",
   "metadata": {},
   "outputs": [
    {
     "name": "stdout",
     "output_type": "stream",
     "text": [
      "1057\n",
      "(20532, 747)\n"
     ]
    }
   ],
   "source": [
    "# Filter the three data set to extract only the matches\n",
    "\n",
    "col_order_fire = firebrowse_data.columns.tolist()\n",
    "col_order_clinical = cut_clinical_named.columns.tolist()\n",
    "set_id_HRD = set(sample_id_hrd)\n",
    "set_id_clincial = set(col_order_clinical)\n",
    "    \n",
    "matching = list(set_id_HRD.intersection(set_id_clincial))\n",
    "print(len(matching))\n",
    "set_match = set(matching)\n",
    "set_id_fire = set(col_order_fire)\n",
    "matching = list(set_match.intersection(set_id_fire))\n",
    "\n",
    "\n",
    "HRD_scores_brca_primary_filtered = HRD_scores_brca_primary[HRD_scores_brca_primary['sample_id_1'].isin(matching) | HRD_scores_brca_primary['sample_id_2'].isin(matching)]\n",
    "HRD_scores_brca_primary_filtered_second = HRD_scores_brca_primary_filtered.drop_duplicates(subset='sample_id_1', keep='first')\n",
    "HRD_scores_brca_primary_filtered_third = HRD_scores_brca_primary_filtered_second.drop_duplicates(subset='sample_id_2', keep='first')\n",
    "\n",
    "cut_clinical_named_filtered = cut_clinical_named.loc[:, matching]\n",
    "\n",
    "firebrowse_data_filtered = firebrowse_data.loc[:,matching]\n",
    "print(firebrowse_data_filtered.shape)\n",
    "# Checking for dublicates or check number of cases\n",
    "\n",
    "# test = list(HRD_scores_brca_primary_filtered['sample_id_1'])\n",
    "# test2 = list(HRD_scores_brca_primary_filtered['sample_id_2'])\n",
    "# duplicates = list(set([x for x in test2 if test2.count(x) > 1]))\n",
    "# dublicates_2 = list(set([x for x in test2 if test2.count(x) > 1]))\n",
    "# print(len(test))\n",
    "# print(len(np.unique(np.array(test))))\n",
    "# print(len(cut_clinical_named_filtered.columns.tolist()))\n",
    "# print(len(firebrowse_data_filtered.columns.tolist()))\n",
    "\n",
    "# extra_value = set(firebrowse_data_filtered.columns.tolist()) - set(list(HRD_scores_brca_primary_filtered_third['sample_id_1']) + list(HRD_scores_brca_primary_filtered_third['sample_id_2']))\n",
    "# print(extra_value)"
   ]
  },
  {
   "cell_type": "code",
   "execution_count": 86,
   "id": "9e06870e",
   "metadata": {},
   "outputs": [
    {
     "name": "stdout",
     "output_type": "stream",
     "text": [
      "(2, 747)\n"
     ]
    }
   ],
   "source": [
    "# Reorder the clinical data\n",
    "cut_clinical_named_filtered_reordered = cut_clinical_named_filtered.reindex(columns=firebrowse_data_filtered.columns)\n",
    "print(cut_clinical_named_filtered_reordered.shape)"
   ]
  },
  {
   "cell_type": "code",
   "execution_count": 87,
   "id": "827bdf4a",
   "metadata": {},
   "outputs": [],
   "source": [
    "# Extract the scores and add them to the clincial data\n",
    "hrds = dict()\n",
    "loh = dict()\n",
    "lst = dict()\n",
    "tai = dict()\n",
    "\n",
    "for id_ in cut_clinical_named_filtered_reordered.columns:\n",
    "    if id_ in list(HRD_scores_brca_primary_filtered_third['sample_id_1']):\n",
    "        hrds[id_] = HRD_scores_brca_primary_filtered_third[HRD_scores_brca_primary_filtered_third['sample_id_1'] == id_]['HRD_sum'].values[0]\n",
    "        loh[id_] = HRD_scores_brca_primary_filtered_third[HRD_scores_brca_primary_filtered_third['sample_id_1'] == id_]['LOH'].values[0]\n",
    "        lst[id_] = HRD_scores_brca_primary_filtered_third[HRD_scores_brca_primary_filtered_third['sample_id_1'] == id_]['LST'].values[0]\n",
    "        tai[id_] = HRD_scores_brca_primary_filtered_third[HRD_scores_brca_primary_filtered_third['sample_id_1'] == id_]['TAI'].values[0]\n",
    "    else:\n",
    "        hrds[id_] = HRD_scores_brca_primary_filtered_third[HRD_scores_brca_primary_filtered_third['sample_id_2'] == id_]['HRD_sum'].values[0]\n",
    "        loh[id_] = HRD_scores_brca_primary_filtered_third[HRD_scores_brca_primary_filtered_third['sample_id_2'] == id_]['LOH'].values[0]\n",
    "        lst[id_] = HRD_scores_brca_primary_filtered_third[HRD_scores_brca_primary_filtered_third['sample_id_2'] == id_]['LST'].values[0]\n",
    "        tai[id_] = HRD_scores_brca_primary_filtered_third[HRD_scores_brca_primary_filtered_third['sample_id_2'] == id_]['TAI'].values[0]\n",
    "        \n",
    "\n",
    "cut_clinical_named_filtered_reordered.loc['HRD_sum'] = hrds\n",
    "cut_clinical_named_filtered_reordered.loc['LOH'] = loh\n",
    "cut_clinical_named_filtered_reordered.loc['LST'] = lst\n",
    "cut_clinical_named_filtered_reordered.loc['TAI'] = tai"
   ]
  },
  {
   "cell_type": "code",
   "execution_count": 88,
   "id": "795462d0",
   "metadata": {},
   "outputs": [
    {
     "name": "stdout",
     "output_type": "stream",
     "text": [
      "(747, 6)\n"
     ]
    }
   ],
   "source": [
    "cut_clinical_named_filtered_reordered_t = cut_clinical_named_filtered_reordered.T\n",
    "cut_clinical_named_filtered_reordered_t.fillna('undefined', inplace=True)\n",
    "print(cut_clinical_named_filtered_reordered_t.shape)\n",
    "cut_clinical_named_filtered_reordered_t['De'] = np.where(cut_clinical_named_filtered_reordered_t['Subtype'] == 'BRCA_Basal', 'Basal', 'other')"
   ]
  },
  {
   "cell_type": "code",
   "execution_count": 49,
   "id": "899e4bb9",
   "metadata": {},
   "outputs": [],
   "source": [
    "firebrowse_data_filtered.to_csv('../data/gene_expression/prepared_data/raw_count_BRCA.csv', sep=',', index = True, header = True)\n",
    "cut_clinical_named_filtered_reordered_t.to_csv('../data/gene_expression/prepared_data/clinical_BRCA.csv', sep=',', header = True, index = True)\n",
    "HRD_scores_brca_primary_filtered_third.to_csv('../data/gene_expression/prepared_data/HRD_scores_BRCA.csv', sep=',', header = True, index = None)"
   ]
  },
  {
   "cell_type": "code",
   "execution_count": 89,
   "id": "fb2fd1a9",
   "metadata": {
    "scrolled": false
   },
   "outputs": [
    {
     "name": "stdout",
     "output_type": "stream",
     "text": [
      "raw and clinical overlap\n",
      "877\n",
      "1084\n",
      "764\n",
      "#### hrd set and clinical overlap\n",
      "2142\n",
      "1084\n",
      "1057\n",
      "#### overlap of hrd and clinical overlaped with raw count\n",
      "746\n",
      "### hrd set and raw count overlap\n",
      "877\n",
      "2142\n",
      "806\n"
     ]
    }
   ],
   "source": [
    "# Check how much overlay there is in the three data sets\n",
    "col_order = firebrowse_data.columns.tolist()\n",
    "col_order_clinical = cut_clinical_named.columns.tolist()\n",
    "\n",
    "col_order.pop(0)\n",
    "\n",
    "print('raw and clinical overlap')\n",
    "set1 = set(col_order)\n",
    "set2 = set(col_order_clinical)\n",
    "    \n",
    "matching = list(set1.intersection(set2))\n",
    "print(len(col_order))\n",
    "print(len(col_order_clinical))\n",
    "print(len(matching))\n",
    "\n",
    "print('#### hrd set and clinical overlap')\n",
    "\n",
    "set1 = set(sample_id_hrd)\n",
    "set2 = set(col_order_clinical)\n",
    "    \n",
    "matching = list(set1.intersection(set2))\n",
    "print(len(sample_id_hrd))\n",
    "print(len(col_order_clinical))\n",
    "print(len(matching))\n",
    "\n",
    "print('#### overlap of hrd and clinical overlaped with raw count')\n",
    "set1 = set(matching)\n",
    "set2 = set(col_order)\n",
    "    \n",
    "matching = list(set1.intersection(set2))\n",
    "print(len(matching))\n",
    "\n",
    "print('### hrd set and raw count overlap')\n",
    "\n",
    "set1 = set(col_order)\n",
    "set2 = set(sample_id_hrd)\n",
    "    \n",
    "matching = list(set1.intersection(set2))\n",
    "print(len(col_order))\n",
    "print(len(sample_id_hrd))\n",
    "print(len(matching))\n",
    "\n",
    "#df2_filtered = cut_clinical_named.loc[:, col_order]\n",
    "\n",
    "# reorder columns of second dataframe (df2_filtered) based on the list from reference dataframe\n",
    "#df2_reordered = df2_filtered.reindex(columns=col_order)"
   ]
  },
  {
   "cell_type": "code",
   "execution_count": 90,
   "id": "02d3077e",
   "metadata": {
    "scrolled": false
   },
   "outputs": [
    {
     "name": "stdout",
     "output_type": "stream",
     "text": [
      "raw and clinical overlap\n",
      "877\n",
      "1084\n",
      "764\n",
      "#### hrd set and clinical overlap\n",
      "2142\n",
      "1084\n",
      "1057\n",
      "#### overlap of hrd and clinical overlaped with raw count\n",
      "746\n",
      "### hrd set and raw count overlap\n",
      "877\n",
      "2142\n",
      "806\n"
     ]
    }
   ],
   "source": [
    "statistics(clinical_named, rna_counts_annotated, sample_id_scores)"
   ]
  },
  {
   "cell_type": "markdown",
   "id": "f62040d8",
   "metadata": {},
   "source": [
    "# LUAD"
   ]
  },
  {
   "cell_type": "code",
   "execution_count": 92,
   "id": "f2c04533",
   "metadata": {},
   "outputs": [],
   "source": [
    "HRD_scores_pan_cancer = pd.read_csv('../../HRD_score/data/HRD_scores_pan_cancer_annotated_typecorrect.csv', sep=',', header = 0)\n",
    "rna_count_luad = pd.read_csv('../data/gene_expression/LUAD_cohort/LUAD.mRNAseq_raw_counts.txt', sep='\\t', header = 0)\n",
    "clincial_luad = pd.read_csv('../data/gene_expression/LUAD_cohort/luad_tcga_pan_can_atlas_2018_clinical_data.tsv', sep = '\\t', header = 0)"
   ]
  },
  {
   "cell_type": "code",
   "execution_count": 96,
   "id": "ed4ca2eb",
   "metadata": {},
   "outputs": [
    {
     "name": "stdout",
     "output_type": "stream",
     "text": [
      "(20532, 162)\n",
      "(543, 21)\n",
      "502\n",
      "(2, 121)\n",
      "(20532, 121)\n",
      "(121, 6)\n",
      "raw and clinical overlap\n",
      "161\n",
      "566\n",
      "121\n",
      "#### hrd set and clinical overlap\n",
      "1026\n",
      "566\n",
      "502\n",
      "#### overlap of hrd and clinical overlaped with raw count\n",
      "120\n",
      "### hrd set and raw count overlap\n",
      "161\n",
      "1026\n",
      "148\n"
     ]
    },
    {
     "name": "stderr",
     "output_type": "stream",
     "text": [
      "/tmp/ipykernel_79282/1908801342.py:38: SettingWithCopyWarning: \n",
      "A value is trying to be set on a copy of a slice from a DataFrame.\n",
      "Try using .loc[row_indexer,col_indexer] = value instead\n",
      "\n",
      "See the caveats in the documentation: https://pandas.pydata.org/pandas-docs/stable/user_guide/indexing.html#returning-a-view-versus-a-copy\n",
      "  scorefile_type_primary['sample_id_1'] = ''\n",
      "/tmp/ipykernel_79282/1908801342.py:39: SettingWithCopyWarning: \n",
      "A value is trying to be set on a copy of a slice from a DataFrame.\n",
      "Try using .loc[row_indexer,col_indexer] = value instead\n",
      "\n",
      "See the caveats in the documentation: https://pandas.pydata.org/pandas-docs/stable/user_guide/indexing.html#returning-a-view-versus-a-copy\n",
      "  scorefile_type_primary['sample_id_1'] = sample_id1\n",
      "/tmp/ipykernel_79282/1908801342.py:40: SettingWithCopyWarning: \n",
      "A value is trying to be set on a copy of a slice from a DataFrame.\n",
      "Try using .loc[row_indexer,col_indexer] = value instead\n",
      "\n",
      "See the caveats in the documentation: https://pandas.pydata.org/pandas-docs/stable/user_guide/indexing.html#returning-a-view-versus-a-copy\n",
      "  scorefile_type_primary['sample_id_2'] = ''\n",
      "/tmp/ipykernel_79282/1908801342.py:41: SettingWithCopyWarning: \n",
      "A value is trying to be set on a copy of a slice from a DataFrame.\n",
      "Try using .loc[row_indexer,col_indexer] = value instead\n",
      "\n",
      "See the caveats in the documentation: https://pandas.pydata.org/pandas-docs/stable/user_guide/indexing.html#returning-a-view-versus-a-copy\n",
      "  scorefile_type_primary['sample_id_2'] = sample_id2\n"
     ]
    }
   ],
   "source": [
    "rna_counts_annotated = curation(rna_count_luad)\n",
    "clinical_named = prepareClinical(clincial_luad)\n",
    "score_file_prep, sample_id_scores = prepareScorefile(HRD_scores_pan_cancer, 'TCGA-LUAD')\n",
    "\n",
    "clinical_reordered, rna_counts_filtered, scorefile_filtered = filterForMatches(clinical_named, rna_counts_annotated, score_file_prep, sample_id_scores)\n",
    "clinical_t = addScoreToClinical(clinical_reordered, scorefile_filtered)\n",
    "statistics(clinical_named, rna_counts_annotated, sample_id_scores)"
   ]
  },
  {
   "cell_type": "code",
   "execution_count": 98,
   "id": "b125599f",
   "metadata": {},
   "outputs": [
    {
     "name": "stdout",
     "output_type": "stream",
     "text": [
      "(20532, 121)\n",
      "(121, 6)\n",
      "(20532, 163)\n"
     ]
    }
   ],
   "source": [
    "print(rna_counts_filtered.shape)\n",
    "print(clinical_t.shape)\n",
    "print(rna_count_luad.shape)"
   ]
  },
  {
   "cell_type": "markdown",
   "id": "e6adae20",
   "metadata": {},
   "source": [
    "# LUSC"
   ]
  },
  {
   "cell_type": "code",
   "execution_count": 101,
   "id": "c4a46151",
   "metadata": {},
   "outputs": [],
   "source": [
    "HRD_scores_pan_cancer = pd.read_csv('../../HRD_score/data/HRD_scores_pan_cancer_annotated_typecorrect.csv', sep=',', header = 0)\n",
    "rna_count_lusc = pd.read_csv('../data/gene_expression/LUSC_cohort/LUSC.mRNAseq_raw_counts.txt', sep='\\t', header = 0)\n",
    "clincial_lusc = pd.read_csv('../data/gene_expression/LUSC_cohort/lusc_tcga_pan_can_atlas_2018_clinical_data.tsv', sep = '\\t', header = 0)"
   ]
  },
  {
   "cell_type": "code",
   "execution_count": 102,
   "id": "920f5a6e",
   "metadata": {},
   "outputs": [
    {
     "name": "stdout",
     "output_type": "stream",
     "text": [
      "(20532, 240)\n",
      "(514, 21)\n",
      "479\n",
      "(2, 213)\n",
      "(20532, 213)\n",
      "(213, 6)\n",
      "raw and clinical overlap\n",
      "239\n",
      "487\n",
      "212\n",
      "#### hrd set and clinical overlap\n",
      "986\n",
      "487\n",
      "479\n",
      "#### overlap of hrd and clinical overlaped with raw count\n",
      "212\n",
      "### hrd set and raw count overlap\n",
      "239\n",
      "986\n",
      "233\n"
     ]
    }
   ],
   "source": [
    "rna_counts_annotated = curation(rna_count_lusc)\n",
    "clinical_named = prepareClinical(clincial_lusc)\n",
    "score_file_prep, sample_id_scores = prepareScorefile(HRD_scores_pan_cancer, 'TCGA-LUSC')\n",
    "\n",
    "clinical_reordered, rna_counts_filtered, scorefile_filtered = filterForMatches(clinical_named, rna_counts_annotated, score_file_prep, sample_id_scores)\n",
    "clinical_t = addScoreToClinical(clinical_reordered, scorefile_filtered)\n",
    "statistics(clinical_named, rna_counts_annotated, sample_id_scores)"
   ]
  },
  {
   "cell_type": "markdown",
   "id": "6214fa72",
   "metadata": {},
   "source": [
    "# OV"
   ]
  },
  {
   "cell_type": "code",
   "execution_count": 2,
   "id": "922b16e0",
   "metadata": {},
   "outputs": [],
   "source": [
    "HRD_scores_pan_cancer = pd.read_csv('../../HRD_score/data/HRD_scores_pan_cancer_annotated_typecorrect.csv', sep=',', header = 0)\n",
    "rna_count_ov = pd.read_csv('../data/gene_expression/OV_cohort/OV.mRNAseq_raw_counts.txt', sep='\\t', header = 0)\n",
    "clincial_ov = pd.read_csv('../data/gene_expression/OV_cohort/ov_tcga_pan_can_atlas_2018_clinical_data.tsv', sep = '\\t', header = 0)"
   ]
  },
  {
   "cell_type": "code",
   "execution_count": 5,
   "id": "d4a937b5",
   "metadata": {
    "scrolled": true
   },
   "outputs": [
    {
     "name": "stdout",
     "output_type": "stream",
     "text": [
      "(20442, 299)\n",
      "(562, 21)\n",
      "555\n"
     ]
    },
    {
     "name": "stderr",
     "output_type": "stream",
     "text": [
      "/tmp/ipykernel_14229/1908801342.py:38: SettingWithCopyWarning: \n",
      "A value is trying to be set on a copy of a slice from a DataFrame.\n",
      "Try using .loc[row_indexer,col_indexer] = value instead\n",
      "\n",
      "See the caveats in the documentation: https://pandas.pydata.org/pandas-docs/stable/user_guide/indexing.html#returning-a-view-versus-a-copy\n",
      "  scorefile_type_primary['sample_id_1'] = ''\n",
      "/tmp/ipykernel_14229/1908801342.py:39: SettingWithCopyWarning: \n",
      "A value is trying to be set on a copy of a slice from a DataFrame.\n",
      "Try using .loc[row_indexer,col_indexer] = value instead\n",
      "\n",
      "See the caveats in the documentation: https://pandas.pydata.org/pandas-docs/stable/user_guide/indexing.html#returning-a-view-versus-a-copy\n",
      "  scorefile_type_primary['sample_id_1'] = sample_id1\n",
      "/tmp/ipykernel_14229/1908801342.py:40: SettingWithCopyWarning: \n",
      "A value is trying to be set on a copy of a slice from a DataFrame.\n",
      "Try using .loc[row_indexer,col_indexer] = value instead\n",
      "\n",
      "See the caveats in the documentation: https://pandas.pydata.org/pandas-docs/stable/user_guide/indexing.html#returning-a-view-versus-a-copy\n",
      "  scorefile_type_primary['sample_id_2'] = ''\n",
      "/tmp/ipykernel_14229/1908801342.py:41: SettingWithCopyWarning: \n",
      "A value is trying to be set on a copy of a slice from a DataFrame.\n",
      "Try using .loc[row_indexer,col_indexer] = value instead\n",
      "\n",
      "See the caveats in the documentation: https://pandas.pydata.org/pandas-docs/stable/user_guide/indexing.html#returning-a-view-versus-a-copy\n",
      "  scorefile_type_primary['sample_id_2'] = sample_id2\n"
     ]
    },
    {
     "name": "stdout",
     "output_type": "stream",
     "text": [
      "(2, 281)\n",
      "(20442, 281)\n",
      "(281, 6)\n",
      "raw and clinical overlap\n",
      "298\n",
      "585\n",
      "290\n",
      "#### hrd set and clinical overlap\n",
      "1118\n",
      "585\n",
      "555\n",
      "#### overlap of hrd and clinical overlaped with raw count\n",
      "280\n",
      "### hrd set and raw count overlap\n",
      "298\n",
      "1118\n",
      "282\n"
     ]
    }
   ],
   "source": [
    "rna_counts_annotated = curation(rna_count_ov)\n",
    "clinical_named = prepareClinical(clincial_ov)\n",
    "score_file_prep, sample_id_scores = prepareScorefile(HRD_scores_pan_cancer, 'TCGA-OV')\n",
    "\n",
    "clinical_reordered, rna_counts_filtered, scorefile_filtered = filterForMatches(clinical_named, rna_counts_annotated, score_file_prep, sample_id_scores)\n",
    "clinical_t = addScoreToClinical(clinical_reordered, scorefile_filtered)\n",
    "statistics(clinical_named, rna_counts_annotated, sample_id_scores)"
   ]
  },
  {
   "cell_type": "code",
   "execution_count": 9,
   "id": "1837d0c7",
   "metadata": {},
   "outputs": [],
   "source": [
    "saveData(clinical_t, rna_counts_filtered, scorefile_filtered, '../data/gene_expression/prepared_data/', 'OV')"
   ]
  }
 ],
 "metadata": {
  "kernelspec": {
   "display_name": "Python 3 (ipykernel)",
   "language": "python",
   "name": "python3"
  },
  "language_info": {
   "codemirror_mode": {
    "name": "ipython",
    "version": 3
   },
   "file_extension": ".py",
   "mimetype": "text/x-python",
   "name": "python",
   "nbconvert_exporter": "python",
   "pygments_lexer": "ipython3",
   "version": "3.9.12"
  }
 },
 "nbformat": 4,
 "nbformat_minor": 5
}
