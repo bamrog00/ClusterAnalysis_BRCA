{
 "cells": [
  {
   "cell_type": "code",
   "execution_count": 1,
   "id": "edda87dc",
   "metadata": {},
   "outputs": [],
   "source": [
    "import pandas as pd\n",
    "import os\n",
    "import glob\n",
    "import numpy as np"
   ]
  },
  {
   "cell_type": "markdown",
   "id": "2e2ce1b1",
   "metadata": {},
   "source": [
    "# BRCA"
   ]
  },
  {
   "cell_type": "code",
   "execution_count": 2,
   "id": "362831b1",
   "metadata": {},
   "outputs": [],
   "source": [
    "# Load data\n",
    "# IMPORTANT: the clinical data here referse to the one downloaded from cBioportal (contains mol.Subtype) and not from GDC\n",
    "HRD_scores_pan_cancer = pd.read_csv('../../HRD_score/data/HRD_scores_pan_cancer_annotated_typecorrect.csv', sep=',', header = 0)\n",
    "HRD_scores_pan_cancer = pd.read_csv('../../HRD_score/data/HRD_scores_pan_cancer_annotated_v2.csv', sep=',', header = 0)\n",
    "firebrowse_data = pd.read_csv('../data/gene_expression/firebrowse_BRCA/BRCA.mRNAseq_raw_counts.txt', sep='\\t', header = 0)\n",
    "clincial_data = pd.read_csv('../data/metadata/brca_tcga_pan_can_atlas_2018_clinical_data.tsv', sep = '\\t', header = 0)"
   ]
  },
  {
   "cell_type": "code",
   "execution_count": 7,
   "id": "519209b4",
   "metadata": {},
   "outputs": [],
   "source": [
    "def curation(rna_counts):\n",
    "    '''\n",
    "    Splits up the HYBRIDIZATION R column into gene names and ID and only keeps the gene names as rownames\n",
    "    Input:\n",
    "    rna_counts (dataframe): count matrix\n",
    "    Output: \n",
    "    rna_counts (dataframe): count matrix with new rownames (gene names)\n",
    "    '''\n",
    "    gene_list = list(rna_counts['HYBRIDIZATION R'])\n",
    "    gene_names = [x.split('|')[0] for x in gene_list]\n",
    "    rna_counts = rna_counts.drop(rna_counts.columns[0], axis = 1)\n",
    "    rna_counts.index = gene_names\n",
    "    \n",
    "    return rna_counts\n",
    "\n",
    "def prepareClinical(clinical):\n",
    "    '''\n",
    "    Extracts the needed part of the clinical data, set the sample ID as new rownames and transposes the matrix\n",
    "    Input:\n",
    "    clinical (dataframe): Clinical metadata\n",
    "    Output:\n",
    "    cut_clinical_named (dataframe): Subframe of the input with new rownames and transposed\n",
    "    '''\n",
    "    cut_clinical = clinical[['Patient ID', 'Sample ID', 'Subtype']]\n",
    "    cut_clinical_named = cut_clinical.set_index('Sample ID')\n",
    "    cut_clinical_named = cut_clinical_named.T\n",
    "    \n",
    "    return cut_clinical_named\n",
    "    \n",
    "def prepareScorefile(scorefile, cancertype):\n",
    "    '''\n",
    "    This functions prepares the HRD score file. Because it contains a column Sample ID which looks like (ID_1|ID_2),\n",
    "    the column is cut and two new columns are added each containing one of the IDs.\n",
    "    All IDs are given back seperatly as an addition.\n",
    "    Input:\n",
    "    scorefile (dataframe): Contains the results from HRDscar\n",
    "    cancertype (string): Indicates the wanted cancertype project name (example: TCGA-BRCA)\n",
    "    Output:\n",
    "    scorefile_type_primary (dataframe): Subframe only containing the Primary sample types and with the column Sample ID split into two columns\n",
    "    sample_id_score (list of strings): List all Sample IDs (ID_1 and ID_2)\n",
    "    '''\n",
    "    \n",
    "    scorefile_type = scorefile[scorefile['Project ID'] == cancertype]\n",
    "    scorefile_type_primary = scorefile_type[scorefile_type['Type'] == 'Primary']\n",
    "    double_ids = list(scorefile_type_primary['Sample ID'])\n",
    "    \n",
    "    sample_id = list()\n",
    "    sample_id1 =list()\n",
    "    sample_id2 = list()\n",
    "    \n",
    "    for sampleid in double_ids:\n",
    "        ids = sampleid.split(', ')\n",
    "        id_1 = ids[0]\n",
    "        id_2 = ids[1]\n",
    "        sample_id1.append(id_1)\n",
    "        sample_id2.append(id_2)\n",
    "        sample_id.append(id_1)\n",
    "        sample_id.append(id_2)\n",
    "    sample_id_scores = list(np.unique(np.array(sample_id)))\n",
    "    sample_id_scores = [s[:-1] for s in sample_id_scores]\n",
    "    sample_id1 = [s[:-1] for s in sample_id1]\n",
    "    sample_id2 = [s[:-1] for s in sample_id2]\n",
    "    \n",
    "    scorefile_type_primary['sample_id_1'] = ''\n",
    "    scorefile_type_primary['sample_id_1'] = sample_id1\n",
    "    scorefile_type_primary['sample_id_2'] = ''\n",
    "    scorefile_type_primary['sample_id_2'] = sample_id2\n",
    "    \n",
    "    return scorefile_type_primary, sample_id_scores\n",
    "\n",
    "def filterForMatches(clinical, rna_counts, scorefile, sample_id_scores):\n",
    "    '''\n",
    "    Compares all three dataframes with each other and only keeping cases which are in all 3 dataframes\n",
    "    Input:\n",
    "    clinical (dataframe):\n",
    "    rna_counts (dataframe):\n",
    "    scorefile (dataframe):\n",
    "    sample_id_scores (list of strings):\n",
    "    \n",
    "    Output:\n",
    "    clinical_reordered (dataframe):\n",
    "    rna_counts_filtered (dataframe):\n",
    "    scorefile_filtered_third (dataframe):\n",
    "    '''\n",
    "    \n",
    "    col_order_count = rna_counts.columns.tolist()\n",
    "    col_order_clinical = clinical.columns.tolist()\n",
    "    set_id_HRD = set(sample_id_scores)\n",
    "    set_id_clincial = set(col_order_clinical)\n",
    "    \n",
    "    matching = list(set_id_HRD.intersection(set_id_clincial))\n",
    "    set_match = set(matching)\n",
    "    set_id_count = set(col_order_count)\n",
    "    matching = list(set_match.intersection(set_id_count))\n",
    "\n",
    "    #Check for matches and delete dublicates\n",
    "    scorefile_filtered = scorefile[scorefile['sample_id_1'].isin(matching) | scorefile['sample_id_2'].isin(matching)]\n",
    "    scorefile_filtered_second = scorefile_filtered.drop_duplicates(subset='sample_id_1', keep='first')\n",
    "    scorefile_filtered_third = scorefile_filtered_second.drop_duplicates(subset='sample_id_2', keep='first')\n",
    "\n",
    "    clinical_filtered = clinical.loc[:, matching]\n",
    "    rna_counts_filtered = rna_counts.loc[:,matching]\n",
    "    \n",
    "    clinical_reordered = clinical_filtered.reindex(columns=rna_counts_filtered.columns)\n",
    "\n",
    "    return clinical_reordered, rna_counts_filtered, scorefile_filtered_third\n",
    "\n",
    "def addScoreToClinical(clinical, scorefile):\n",
    "    '''\n",
    "    Adds the 4 HRD scores (HRDsum, LST,LOH,TAI) to the clinical data\n",
    "    Input:\n",
    "    clinical (dataframe):\n",
    "    scorefile (dataframe):\n",
    "    Output:\n",
    "    clinical_t (dataframe):\n",
    "    '''\n",
    "    hrds = dict()\n",
    "    loh = dict()\n",
    "    lst = dict()\n",
    "    tai = dict()\n",
    "\n",
    "    for id_ in clinical.columns:\n",
    "        if id_ in list(scorefile['sample_id_1']):\n",
    "            hrds[id_] = scorefile[scorefile['sample_id_1'] == id_]['HRD_sum'].values[0]\n",
    "            loh[id_] = scorefile[scorefile['sample_id_1'] == id_]['LOH'].values[0]\n",
    "            lst[id_] = scorefile[scorefile['sample_id_1'] == id_]['LST'].values[0]\n",
    "            tai[id_] = scorefile[scorefile['sample_id_1'] == id_]['TAI'].values[0]\n",
    "        else:\n",
    "            hrds[id_] = scorefile[scorefile['sample_id_2'] == id_]['HRD_sum'].values[0]\n",
    "            loh[id_] = scorefile[scorefile['sample_id_2'] == id_]['LOH'].values[0]\n",
    "            lst[id_] = scorefile[scorefile['sample_id_2'] == id_]['LST'].values[0]\n",
    "            tai[id_] = scorefile[scorefile['sample_id_2'] == id_]['TAI'].values[0]\n",
    "        \n",
    "\n",
    "    clinical.loc['HRD_sum'] = hrds\n",
    "    clinical.loc['LOH'] = loh\n",
    "    clinical.loc['LST'] = lst\n",
    "    clinical.loc['TAI'] = tai\n",
    "    \n",
    "    clinical_t = clinical.T\n",
    "    clinical_t.fillna('undefined', inplace=True)\n",
    "    \n",
    "    return clinical_t\n",
    "\n",
    "def statistics(clinical, rna_count, sample_id_scores):\n",
    "    '''\n",
    "    Function which prints out the number of matches between the datasets\n",
    "    Input:\n",
    "    clinincal (dataframe):\n",
    "    rna_count (dataframe):\n",
    "    sample_id_scores (list of string):\n",
    "    '''\n",
    "    col_order = rna_count.columns.tolist()\n",
    "    col_order_clinical = clinical.columns.tolist()\n",
    "\n",
    "    col_order.pop(0)\n",
    "\n",
    "    print('Comparing clinical and raw counts dataset')\n",
    "    set1 = set(col_order)\n",
    "    set2 = set(col_order_clinical)\n",
    "    \n",
    "    matching = list(set1.intersection(set2))\n",
    "    print('Number of cases in raw counts: '+ str(len(col_order)))\n",
    "    print('Number of cases in clinical: '+ str(len(col_order_clinical)))\n",
    "    print('Number of matches: ' + str(len(matching)))\n",
    "    \n",
    "    print('\\n')\n",
    "    \n",
    "    print('Comparing clinical and HRDscores dataset')\n",
    "\n",
    "    set1 = set(sample_id_scores)\n",
    "    set2 = set(col_order_clinical)\n",
    "    \n",
    "    matching = list(set1.intersection(set2))\n",
    "    print('Number of cases in HRDscores: '+ str(len(sample_id_scores)))\n",
    "    print('Number of cases in clinical: '+ str(len(col_order_clinical)))\n",
    "    print('Number of matches: ' + str(len(matching)))\n",
    "    \n",
    "    print('\\n')\n",
    "\n",
    "    print('Comparing clinical and HRDscores and raw counts dataset')\n",
    "    set1 = set(matching)\n",
    "    set2 = set(col_order)\n",
    "    \n",
    "    matching = list(set1.intersection(set2))\n",
    "    print('Number of matches: ' + str(len(matching)))\n",
    "    \n",
    "    print('\\n')\n",
    "    \n",
    "    print('Comparing raw count and HRDscores dataset')\n",
    "\n",
    "    set1 = set(col_order)\n",
    "    set2 = set(sample_id_scores)\n",
    "    \n",
    "    matching = list(set1.intersection(set2))\n",
    "    print('Number of cases in raw counts: '+ str(len(col_order)))\n",
    "    print('Number of cases in HRD scores: '+ str(len(sample_id_scores)))\n",
    "    print('Number of matches: ' + str(len(matching)))\n",
    "\n",
    "def saveData(clinical, rna_count, scorefile, path, cancertype):\n",
    "    '''\n",
    "    Saves the prepared files\n",
    "    Input:\n",
    "    clincial (dataframe):\n",
    "    rna_count (dataframe):\n",
    "    scorefile (dataframe):\n",
    "    path (string):\n",
    "    cancertype (string):\n",
    "    '''\n",
    "    rna_count.to_csv(path + 'raw_count_'+cancertype+'.csv', sep=',', index = True, header = True)\n",
    "    clinical.to_csv(path + 'clinical_'+cancertype+'.csv', sep=',', header = True, index = True)\n",
    "    scorefile.to_csv(path + 'HRD_scores_'+cancertype+'.csv', sep=',', header = True, index = None)"
   ]
  },
  {
   "cell_type": "code",
   "execution_count": 8,
   "id": "fa6ffbd6",
   "metadata": {},
   "outputs": [
    {
     "name": "stderr",
     "output_type": "stream",
     "text": [
      "/tmp/ipykernel_24540/197776699.py:64: SettingWithCopyWarning: \n",
      "A value is trying to be set on a copy of a slice from a DataFrame.\n",
      "Try using .loc[row_indexer,col_indexer] = value instead\n",
      "\n",
      "See the caveats in the documentation: https://pandas.pydata.org/pandas-docs/stable/user_guide/indexing.html#returning-a-view-versus-a-copy\n",
      "  scorefile_type_primary['sample_id_1'] = ''\n",
      "/tmp/ipykernel_24540/197776699.py:65: SettingWithCopyWarning: \n",
      "A value is trying to be set on a copy of a slice from a DataFrame.\n",
      "Try using .loc[row_indexer,col_indexer] = value instead\n",
      "\n",
      "See the caveats in the documentation: https://pandas.pydata.org/pandas-docs/stable/user_guide/indexing.html#returning-a-view-versus-a-copy\n",
      "  scorefile_type_primary['sample_id_1'] = sample_id1\n",
      "/tmp/ipykernel_24540/197776699.py:66: SettingWithCopyWarning: \n",
      "A value is trying to be set on a copy of a slice from a DataFrame.\n",
      "Try using .loc[row_indexer,col_indexer] = value instead\n",
      "\n",
      "See the caveats in the documentation: https://pandas.pydata.org/pandas-docs/stable/user_guide/indexing.html#returning-a-view-versus-a-copy\n",
      "  scorefile_type_primary['sample_id_2'] = ''\n",
      "/tmp/ipykernel_24540/197776699.py:67: SettingWithCopyWarning: \n",
      "A value is trying to be set on a copy of a slice from a DataFrame.\n",
      "Try using .loc[row_indexer,col_indexer] = value instead\n",
      "\n",
      "See the caveats in the documentation: https://pandas.pydata.org/pandas-docs/stable/user_guide/indexing.html#returning-a-view-versus-a-copy\n",
      "  scorefile_type_primary['sample_id_2'] = sample_id2\n"
     ]
    },
    {
     "name": "stdout",
     "output_type": "stream",
     "text": [
      "Comparing clinical and raw counts dataset\n",
      "Number of cases in raw counts: 877\n",
      "Number of cases in clinical: 1084\n",
      "Number of matches: 764\n",
      "\n",
      "\n",
      "Comparing clinical and HRDscores dataset\n",
      "Number of cases in HRDscores: 2142\n",
      "Number of cases in clinical: 1084\n",
      "Number of matches: 1057\n",
      "\n",
      "\n",
      "Comparing clinical and HRDscores and raw counts dataset\n",
      "Number of matches: 746\n",
      "\n",
      "\n",
      "Comparing raw count and HRDscores dataset\n",
      "Number of cases in raw counts: 877\n",
      "Number of cases in HRD scores: 2142\n",
      "Number of matches: 806\n"
     ]
    }
   ],
   "source": [
    "rna_counts_annotated = curation(firebrowse_data)\n",
    "clinical_named = prepareClinical(clincial_data)\n",
    "score_file_prep, sample_id_scores = prepareScorefile(HRD_scores_pan_cancer, 'TCGA-BRCA')\n",
    "\n",
    "clinical_reordered, rna_counts_filtered, scorefile_filtered = filterForMatches(clinical_named, rna_counts_annotated, score_file_prep, sample_id_scores)\n",
    "clinical_t = addScoreToClinical(clinical_reordered, scorefile_filtered)\n",
    "statistics(clinical_named, rna_counts_annotated, sample_id_scores)"
   ]
  },
  {
   "cell_type": "code",
   "execution_count": 13,
   "id": "a634790f",
   "metadata": {},
   "outputs": [
    {
     "name": "stdout",
     "output_type": "stream",
     "text": [
      "(20532, 878)\n"
     ]
    }
   ],
   "source": [
    "print(rna_counts_annotated.shape)"
   ]
  },
  {
   "cell_type": "code",
   "execution_count": 14,
   "id": "02d3077e",
   "metadata": {
    "scrolled": false
   },
   "outputs": [
    {
     "name": "stdout",
     "output_type": "stream",
     "text": [
      "raw and clinical overlap\n",
      "877\n",
      "1084\n",
      "764\n",
      "#### hrd set and clinical overlap\n",
      "2142\n",
      "1084\n",
      "1057\n",
      "#### overlap of hrd and clinical overlaped with raw count\n",
      "746\n",
      "### hrd set and raw count overlap\n",
      "877\n",
      "2142\n",
      "806\n"
     ]
    }
   ],
   "source": [
    "statistics(clinical_named, rna_counts_annotated, sample_id_scores)"
   ]
  },
  {
   "cell_type": "markdown",
   "id": "f62040d8",
   "metadata": {},
   "source": [
    "# LUAD"
   ]
  },
  {
   "cell_type": "code",
   "execution_count": 92,
   "id": "f2c04533",
   "metadata": {},
   "outputs": [],
   "source": [
    "HRD_scores_pan_cancer = pd.read_csv('../../HRD_score/data/HRD_scores_pan_cancer_annotated_typecorrect.csv', sep=',', header = 0)\n",
    "rna_count_luad = pd.read_csv('../data/gene_expression/LUAD_cohort/LUAD.mRNAseq_raw_counts.txt', sep='\\t', header = 0)\n",
    "clincial_luad = pd.read_csv('../data/gene_expression/LUAD_cohort/luad_tcga_pan_can_atlas_2018_clinical_data.tsv', sep = '\\t', header = 0)"
   ]
  },
  {
   "cell_type": "code",
   "execution_count": 96,
   "id": "ed4ca2eb",
   "metadata": {},
   "outputs": [
    {
     "name": "stdout",
     "output_type": "stream",
     "text": [
      "(20532, 162)\n",
      "(543, 21)\n",
      "502\n",
      "(2, 121)\n",
      "(20532, 121)\n",
      "(121, 6)\n",
      "raw and clinical overlap\n",
      "161\n",
      "566\n",
      "121\n",
      "#### hrd set and clinical overlap\n",
      "1026\n",
      "566\n",
      "502\n",
      "#### overlap of hrd and clinical overlaped with raw count\n",
      "120\n",
      "### hrd set and raw count overlap\n",
      "161\n",
      "1026\n",
      "148\n"
     ]
    },
    {
     "name": "stderr",
     "output_type": "stream",
     "text": [
      "/tmp/ipykernel_79282/1908801342.py:38: SettingWithCopyWarning: \n",
      "A value is trying to be set on a copy of a slice from a DataFrame.\n",
      "Try using .loc[row_indexer,col_indexer] = value instead\n",
      "\n",
      "See the caveats in the documentation: https://pandas.pydata.org/pandas-docs/stable/user_guide/indexing.html#returning-a-view-versus-a-copy\n",
      "  scorefile_type_primary['sample_id_1'] = ''\n",
      "/tmp/ipykernel_79282/1908801342.py:39: SettingWithCopyWarning: \n",
      "A value is trying to be set on a copy of a slice from a DataFrame.\n",
      "Try using .loc[row_indexer,col_indexer] = value instead\n",
      "\n",
      "See the caveats in the documentation: https://pandas.pydata.org/pandas-docs/stable/user_guide/indexing.html#returning-a-view-versus-a-copy\n",
      "  scorefile_type_primary['sample_id_1'] = sample_id1\n",
      "/tmp/ipykernel_79282/1908801342.py:40: SettingWithCopyWarning: \n",
      "A value is trying to be set on a copy of a slice from a DataFrame.\n",
      "Try using .loc[row_indexer,col_indexer] = value instead\n",
      "\n",
      "See the caveats in the documentation: https://pandas.pydata.org/pandas-docs/stable/user_guide/indexing.html#returning-a-view-versus-a-copy\n",
      "  scorefile_type_primary['sample_id_2'] = ''\n",
      "/tmp/ipykernel_79282/1908801342.py:41: SettingWithCopyWarning: \n",
      "A value is trying to be set on a copy of a slice from a DataFrame.\n",
      "Try using .loc[row_indexer,col_indexer] = value instead\n",
      "\n",
      "See the caveats in the documentation: https://pandas.pydata.org/pandas-docs/stable/user_guide/indexing.html#returning-a-view-versus-a-copy\n",
      "  scorefile_type_primary['sample_id_2'] = sample_id2\n"
     ]
    }
   ],
   "source": [
    "rna_counts_annotated = curation(rna_count_luad)\n",
    "clinical_named = prepareClinical(clincial_luad)\n",
    "score_file_prep, sample_id_scores = prepareScorefile(HRD_scores_pan_cancer, 'TCGA-LUAD')\n",
    "\n",
    "clinical_reordered, rna_counts_filtered, scorefile_filtered = filterForMatches(clinical_named, rna_counts_annotated, score_file_prep, sample_id_scores)\n",
    "clinical_t = addScoreToClinical(clinical_reordered, scorefile_filtered)\n",
    "statistics(clinical_named, rna_counts_annotated, sample_id_scores)"
   ]
  },
  {
   "cell_type": "code",
   "execution_count": 98,
   "id": "b125599f",
   "metadata": {},
   "outputs": [
    {
     "name": "stdout",
     "output_type": "stream",
     "text": [
      "(20532, 121)\n",
      "(121, 6)\n",
      "(20532, 163)\n"
     ]
    }
   ],
   "source": [
    "print(rna_counts_filtered.shape)\n",
    "print(clinical_t.shape)\n",
    "print(rna_count_luad.shape)"
   ]
  },
  {
   "cell_type": "markdown",
   "id": "e6adae20",
   "metadata": {},
   "source": [
    "# LUSC"
   ]
  },
  {
   "cell_type": "code",
   "execution_count": 101,
   "id": "c4a46151",
   "metadata": {},
   "outputs": [],
   "source": [
    "HRD_scores_pan_cancer = pd.read_csv('../../HRD_score/data/HRD_scores_pan_cancer_annotated_typecorrect.csv', sep=',', header = 0)\n",
    "rna_count_lusc = pd.read_csv('../data/gene_expression/LUSC_cohort/LUSC.mRNAseq_raw_counts.txt', sep='\\t', header = 0)\n",
    "clincial_lusc = pd.read_csv('../data/gene_expression/LUSC_cohort/lusc_tcga_pan_can_atlas_2018_clinical_data.tsv', sep = '\\t', header = 0)"
   ]
  },
  {
   "cell_type": "code",
   "execution_count": 102,
   "id": "920f5a6e",
   "metadata": {},
   "outputs": [
    {
     "name": "stdout",
     "output_type": "stream",
     "text": [
      "(20532, 240)\n",
      "(514, 21)\n",
      "479\n",
      "(2, 213)\n",
      "(20532, 213)\n",
      "(213, 6)\n",
      "raw and clinical overlap\n",
      "239\n",
      "487\n",
      "212\n",
      "#### hrd set and clinical overlap\n",
      "986\n",
      "487\n",
      "479\n",
      "#### overlap of hrd and clinical overlaped with raw count\n",
      "212\n",
      "### hrd set and raw count overlap\n",
      "239\n",
      "986\n",
      "233\n"
     ]
    }
   ],
   "source": [
    "rna_counts_annotated = curation(rna_count_lusc)\n",
    "clinical_named = prepareClinical(clincial_lusc)\n",
    "score_file_prep, sample_id_scores = prepareScorefile(HRD_scores_pan_cancer, 'TCGA-LUSC')\n",
    "\n",
    "clinical_reordered, rna_counts_filtered, scorefile_filtered = filterForMatches(clinical_named, rna_counts_annotated, score_file_prep, sample_id_scores)\n",
    "clinical_t = addScoreToClinical(clinical_reordered, scorefile_filtered)\n",
    "statistics(clinical_named, rna_counts_annotated, sample_id_scores)"
   ]
  },
  {
   "cell_type": "markdown",
   "id": "6214fa72",
   "metadata": {},
   "source": [
    "# OV"
   ]
  },
  {
   "cell_type": "code",
   "execution_count": 7,
   "id": "922b16e0",
   "metadata": {},
   "outputs": [],
   "source": [
    "HRD_scores_pan_cancer = pd.read_csv('../../HRD_score/data/HRD_scores_pan_cancer_annotated_typecorrect.csv', sep=',', header = 0)\n",
    "HRD_scores_pan_cancer = pd.read_csv('../../HRD_score/data/HRD_scores_pan_cancer_annotated_v2.csv', sep=',', header = 0)\n",
    "rna_count_ov = pd.read_csv('../data/gene_expression/OV_cohort/OV.mRNAseq_raw_counts.txt', sep='\\t', header = 0)\n",
    "clincial_ov = pd.read_csv('../data/gene_expression/OV_cohort/ov_tcga_pan_can_atlas_2018_clinical_data.tsv', sep = '\\t', header = 0)"
   ]
  },
  {
   "cell_type": "code",
   "execution_count": 8,
   "id": "7ba5dd2c",
   "metadata": {},
   "outputs": [],
   "source": [
    "HRD_scores_pan_cancer['SAMPLE_ID'] = HRD_scores_pan_cancer['Sample ID'].str.slice(0, -1)"
   ]
  },
  {
   "cell_type": "code",
   "execution_count": 9,
   "id": "0ce90bf0",
   "metadata": {},
   "outputs": [],
   "source": [
    "HRD_scores_pan_cancer_ov = HRD_scores_pan_cancer[HRD_scores_pan_cancer['Project ID'] == 'TCGA-OV']\n",
    "HRD_scores_pan_cancer_prim = HRD_scores_pan_cancer_ov[HRD_scores_pan_cancer_ov['Type'] == 'Primary']"
   ]
  },
  {
   "cell_type": "code",
   "execution_count": 13,
   "id": "d635e096",
   "metadata": {},
   "outputs": [],
   "source": [
    "column_names = list(rna_count_ov.columns)"
   ]
  },
  {
   "cell_type": "code",
   "execution_count": 14,
   "id": "8bd762e8",
   "metadata": {},
   "outputs": [
    {
     "data": {
      "text/plain": [
       "'HYBRIDIZATION R'"
      ]
     },
     "execution_count": 14,
     "metadata": {},
     "output_type": "execute_result"
    }
   ],
   "source": [
    "column_names.pop(0)"
   ]
  },
  {
   "cell_type": "code",
   "execution_count": 17,
   "id": "ba6c4f51",
   "metadata": {},
   "outputs": [],
   "source": [
    "set1 = set(column_names)\n",
    "set2 = set(list(HRD_scores_pan_cancer_prim['SAMPLE_ID']))\n",
    "    \n",
    "matching = list(set1.intersection(set2))"
   ]
  },
  {
   "cell_type": "code",
   "execution_count": 19,
   "id": "e8ab4d37",
   "metadata": {},
   "outputs": [
    {
     "data": {
      "text/plain": [
       "283"
      ]
     },
     "execution_count": 19,
     "metadata": {},
     "output_type": "execute_result"
    }
   ],
   "source": [
    "len(matching)"
   ]
  },
  {
   "cell_type": "code",
   "execution_count": 5,
   "id": "d4a937b5",
   "metadata": {
    "scrolled": true
   },
   "outputs": [
    {
     "name": "stdout",
     "output_type": "stream",
     "text": [
      "(20442, 299)\n",
      "(562, 21)\n",
      "555\n"
     ]
    },
    {
     "name": "stderr",
     "output_type": "stream",
     "text": [
      "/tmp/ipykernel_14229/1908801342.py:38: SettingWithCopyWarning: \n",
      "A value is trying to be set on a copy of a slice from a DataFrame.\n",
      "Try using .loc[row_indexer,col_indexer] = value instead\n",
      "\n",
      "See the caveats in the documentation: https://pandas.pydata.org/pandas-docs/stable/user_guide/indexing.html#returning-a-view-versus-a-copy\n",
      "  scorefile_type_primary['sample_id_1'] = ''\n",
      "/tmp/ipykernel_14229/1908801342.py:39: SettingWithCopyWarning: \n",
      "A value is trying to be set on a copy of a slice from a DataFrame.\n",
      "Try using .loc[row_indexer,col_indexer] = value instead\n",
      "\n",
      "See the caveats in the documentation: https://pandas.pydata.org/pandas-docs/stable/user_guide/indexing.html#returning-a-view-versus-a-copy\n",
      "  scorefile_type_primary['sample_id_1'] = sample_id1\n",
      "/tmp/ipykernel_14229/1908801342.py:40: SettingWithCopyWarning: \n",
      "A value is trying to be set on a copy of a slice from a DataFrame.\n",
      "Try using .loc[row_indexer,col_indexer] = value instead\n",
      "\n",
      "See the caveats in the documentation: https://pandas.pydata.org/pandas-docs/stable/user_guide/indexing.html#returning-a-view-versus-a-copy\n",
      "  scorefile_type_primary['sample_id_2'] = ''\n",
      "/tmp/ipykernel_14229/1908801342.py:41: SettingWithCopyWarning: \n",
      "A value is trying to be set on a copy of a slice from a DataFrame.\n",
      "Try using .loc[row_indexer,col_indexer] = value instead\n",
      "\n",
      "See the caveats in the documentation: https://pandas.pydata.org/pandas-docs/stable/user_guide/indexing.html#returning-a-view-versus-a-copy\n",
      "  scorefile_type_primary['sample_id_2'] = sample_id2\n"
     ]
    },
    {
     "name": "stdout",
     "output_type": "stream",
     "text": [
      "(2, 281)\n",
      "(20442, 281)\n",
      "(281, 6)\n",
      "raw and clinical overlap\n",
      "298\n",
      "585\n",
      "290\n",
      "#### hrd set and clinical overlap\n",
      "1118\n",
      "585\n",
      "555\n",
      "#### overlap of hrd and clinical overlaped with raw count\n",
      "280\n",
      "### hrd set and raw count overlap\n",
      "298\n",
      "1118\n",
      "282\n"
     ]
    }
   ],
   "source": [
    "rna_counts_annotated = curation(rna_count_ov)\n",
    "clinical_named = prepareClinical(clincial_ov)\n",
    "score_file_prep, sample_id_scores = prepareScorefile(HRD_scores_pan_cancer, 'TCGA-OV')\n",
    "\n",
    "clinical_reordered, rna_counts_filtered, scorefile_filtered = filterForMatches(clinical_named, rna_counts_annotated, score_file_prep, sample_id_scores)\n",
    "clinical_t = addScoreToClinical(clinical_reordered, scorefile_filtered)\n",
    "statistics(clinical_named, rna_counts_annotated, sample_id_scores)"
   ]
  },
  {
   "cell_type": "code",
   "execution_count": 9,
   "id": "1837d0c7",
   "metadata": {},
   "outputs": [],
   "source": [
    "saveData(clinical_t, rna_counts_filtered, scorefile_filtered, '../data/gene_expression/prepared_data/', 'OV')"
   ]
  }
 ],
 "metadata": {
  "kernelspec": {
   "display_name": "Python 3 (ipykernel)",
   "language": "python",
   "name": "python3"
  },
  "language_info": {
   "codemirror_mode": {
    "name": "ipython",
    "version": 3
   },
   "file_extension": ".py",
   "mimetype": "text/x-python",
   "name": "python",
   "nbconvert_exporter": "python",
   "pygments_lexer": "ipython3",
   "version": "3.9.12"
  }
 },
 "nbformat": 4,
 "nbformat_minor": 5
}
